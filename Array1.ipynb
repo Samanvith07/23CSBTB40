{
  "nbformat": 4,
  "nbformat_minor": 0,
  "metadata": {
    "colab": {
      "provenance": [],
      "authorship_tag": "ABX9TyNZJFRntgkVM4YQea+fhW/U",
      "include_colab_link": true
    },
    "kernelspec": {
      "name": "python3",
      "display_name": "Python 3"
    },
    "language_info": {
      "name": "python"
    }
  },
  "cells": [
    {
      "cell_type": "markdown",
      "metadata": {
        "id": "view-in-github",
        "colab_type": "text"
      },
      "source": [
        "<a href=\"https://colab.research.google.com/github/Samanvith07/23CSBTB40/blob/main/Array1.ipynb\" target=\"_parent\"><img src=\"https://colab.research.google.com/assets/colab-badge.svg\" alt=\"Open In Colab\"/></a>"
      ]
    },
    {
      "cell_type": "markdown",
      "source": [
        "Part 1 – Implement Basic Data Structures using Numpy, Pandas"
      ],
      "metadata": {
        "id": "V76lXb4p-11T"
      }
    },
    {
      "cell_type": "code",
      "execution_count": 4,
      "metadata": {
        "colab": {
          "base_uri": "https://localhost:8080/"
        },
        "id": "B0Db4SCs-XNc",
        "outputId": "f57950f4-c4c9-4b7e-f351-249d918933e7"
      },
      "outputs": [
        {
          "output_type": "stream",
          "name": "stdout",
          "text": [
            "<class 'list'>\n",
            "<class 'list'>\n"
          ]
        }
      ],
      "source": [
        "import numpy as np\n",
        "import pandas as pd\n",
        "list1 = [1, 2, 3, 4, 5]\n",
        "list2 = [1, 2, 3, 4, 5]\n",
        "print(type(list1))\n",
        "print(type(list2))\n"
      ]
    },
    {
      "cell_type": "markdown",
      "source": [
        "([1,2,3,4,5],list)"
      ],
      "metadata": {
        "id": "HRdXsokqJYXo"
      }
    },
    {
      "cell_type": "code",
      "source": [
        "array1=np.array(list1)\n",
        "print(array1)\n",
        "array2=np.array(list2)\n",
        "print(array2)"
      ],
      "metadata": {
        "colab": {
          "base_uri": "https://localhost:8080/"
        },
        "id": "idMrm3EgIf2e",
        "outputId": "596fb0d3-b763-43f5-fa94-109d09f2a0a0"
      },
      "execution_count": 5,
      "outputs": [
        {
          "output_type": "stream",
          "name": "stdout",
          "text": [
            "[1 2 3 4 5]\n",
            "[1 2 3 4 5]\n"
          ]
        }
      ]
    },
    {
      "cell_type": "code",
      "source": [
        "array1_type=type(array1)\n",
        "array2_type=type(array2)\n",
        "print(array1_type)\n",
        "print(array2_type)"
      ],
      "metadata": {
        "colab": {
          "base_uri": "https://localhost:8080/"
        },
        "id": "fMQf8Jb5Qvsh",
        "outputId": "7418c11c-2d00-4e8c-edbb-a2c0361f3e72"
      },
      "execution_count": 7,
      "outputs": [
        {
          "output_type": "stream",
          "name": "stdout",
          "text": [
            "<class 'numpy.ndarray'>\n",
            "<class 'numpy.ndarray'>\n"
          ]
        }
      ]
    },
    {
      "cell_type": "code",
      "source": [
        "mul=array1*array2\n",
        "div=array1/array2\n",
        "pow=array1**2\n",
        "print(mul)\n",
        "print(div)\n",
        "print(pow)"
      ],
      "metadata": {
        "colab": {
          "base_uri": "https://localhost:8080/"
        },
        "id": "L8NZM9BfMSH_",
        "outputId": "6721c5ab-5bbb-47e6-eb35-0274428dd3ae"
      },
      "execution_count": 6,
      "outputs": [
        {
          "output_type": "stream",
          "name": "stdout",
          "text": [
            "[ 1  4  9 16 25]\n",
            "[1. 1. 1. 1. 1.]\n",
            "[ 1  4  9 16 25]\n"
          ]
        }
      ]
    },
    {
      "cell_type": "code",
      "source": [
        "sin = np.sin(array1)\n",
        "print(\"sin result for\",array1,\":\",sin)\n",
        "sin2 = np.sin(array2)\n",
        "print(\"sin result for\",array2,\":\",sin2)\n",
        "log=np.log(array1)\n",
        "print(\"log result for\",array1,\":\",log)\n",
        "log2=np.log(array2)\n",
        "print(\"log result for\",array2,\":\",log2)\n",
        "exp=np.exp(array1)\n",
        "print(\"expainstion result for\",array1,\":\",exp)\n",
        "exp2=np.exp(array2)\n",
        "print(\"expainstion result for\",array2,\":\",exp2)"
      ],
      "metadata": {
        "colab": {
          "base_uri": "https://localhost:8080/"
        },
        "id": "D9YYDF2IQsf1",
        "outputId": "b9872689-1537-45de-e6f7-c49a70f1b61a"
      },
      "execution_count": 8,
      "outputs": [
        {
          "output_type": "stream",
          "name": "stdout",
          "text": [
            "sin result for [1 2 3 4 5] : [ 0.84147098  0.90929743  0.14112001 -0.7568025  -0.95892427]\n",
            "sin result for [1 2 3 4 5] : [ 0.84147098  0.90929743  0.14112001 -0.7568025  -0.95892427]\n",
            "log result for [1 2 3 4 5] : [0.         0.69314718 1.09861229 1.38629436 1.60943791]\n",
            "log result for [1 2 3 4 5] : [0.         0.69314718 1.09861229 1.38629436 1.60943791]\n",
            "expainstion result for [1 2 3 4 5] : [  2.71828183   7.3890561   20.08553692  54.59815003 148.4131591 ]\n",
            "expainstion result for [1 2 3 4 5] : [  2.71828183   7.3890561   20.08553692  54.59815003 148.4131591 ]\n"
          ]
        }
      ]
    }
  ]
}