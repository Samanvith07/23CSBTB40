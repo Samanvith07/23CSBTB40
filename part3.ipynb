{
  "nbformat": 4,
  "nbformat_minor": 0,
  "metadata": {
    "colab": {
      "provenance": [],
      "authorship_tag": "ABX9TyPIOI13+e6fWDfWSXIr6TAD",
      "include_colab_link": true
    },
    "kernelspec": {
      "name": "python3",
      "display_name": "Python 3"
    },
    "language_info": {
      "name": "python"
    }
  },
  "cells": [
    {
      "cell_type": "markdown",
      "metadata": {
        "id": "view-in-github",
        "colab_type": "text"
      },
      "source": [
        "<a href=\"https://colab.research.google.com/github/Samanvith07/23CSBTB40/blob/main/part3.ipynb\" target=\"_parent\"><img src=\"https://colab.research.google.com/assets/colab-badge.svg\" alt=\"Open In Colab\"/></a>"
      ]
    },
    {
      "cell_type": "code",
      "execution_count": 3,
      "metadata": {
        "id": "cNSUgzQHPJfc",
        "colab": {
          "base_uri": "https://localhost:8080/"
        },
        "outputId": "5f13b155-67b1-479c-c8d7-882c8630fff1"
      },
      "outputs": [
        {
          "output_type": "stream",
          "name": "stdout",
          "text": [
            "   st id     st name      course  contact no\n",
            "0   2090   samanvith  CSE(AI/ML)  1234556789\n",
            "1   2087    varshith  CSE(AI/ML)  7894561237\n",
            "2   2085      harsha  CSE(AI/ML)  7856323154\n",
            "3   2218  vrushikesh  CSE(AI/ML)  4587963124\n",
            "4   1236  siri reddy         CSE  7894561235\n",
            "5   1239      akshay         CSE  7489456123\n",
            "6   1247     nagasri         CSE  4789548953\n",
            "7   1246       shiva         CSE  4789635412\n"
          ]
        }
      ],
      "source": [
        "import pandas as pd\n",
        "df=pd.read_excel(\"student.xlsx\")\n",
        "df=pd.read_csv(\"student.csv\")\n",
        "print(df)"
      ]
    },
    {
      "cell_type": "code",
      "source": [
        "from queue import Queue\n",
        "graph={0: [1, 2, 3],\n",
        "       1: [0, 2],\n",
        "       2: [1, 3, 5],\n",
        "       3: [0, 2, 4],\n",
        "       4: [3, 5, 7],\n",
        "       5: [2, 4, 6, 7],\n",
        "       6: [5, 7],\n",
        "       7: []}\n",
        "print(\"The adjacency List representing the graph is:\")\n",
        "print(graph)\n",
        "\n",
        "def bfs(graph, source):\n",
        "  Q=Queue()\n",
        "  visited_vertices=set()\n",
        "  Q.put(source)\n",
        "  visited_vertices.update({source})\n",
        "  while not Q.empty():\n",
        "    vertex=Q.get()\n",
        "    print(vertex, end=\"-->\")\n",
        "    for u in graph[vertex]:\n",
        "      if u not in visited_vertices:\n",
        "        Q.put(u)\n",
        "        visited_vertices.update({u})\n",
        "print(\"BFS traversal of graph with source 1 is:\")\n",
        "bfs(graph, 1)"
      ],
      "metadata": {
        "id": "pquj_rEsTcpS",
        "colab": {
          "base_uri": "https://localhost:8080/"
        },
        "outputId": "c56a0e21-72d9-4063-cb41-347c4c48c7ca"
      },
      "execution_count": 1,
      "outputs": [
        {
          "output_type": "stream",
          "name": "stdout",
          "text": [
            "The adjacency List representing the graph is:\n",
            "{0: [1, 2, 3], 1: [0, 2], 2: [1, 3, 5], 3: [0, 2, 4], 4: [3, 5, 7], 5: [2, 4, 6, 7], 6: [5, 7], 7: []}\n",
            "BFS traversal of graph with source 1 is:\n",
            "1-->0-->2-->3-->5-->4-->6-->7-->"
          ]
        }
      ]
    }
  ]
}